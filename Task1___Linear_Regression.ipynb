{
  "nbformat": 4,
  "nbformat_minor": 0,
  "metadata": {
    "colab": {
      "name": "Task1 | Linear Regression.ipynb",
      "provenance": [],
      "collapsed_sections": []
    },
    "kernelspec": {
      "name": "python3",
      "display_name": "Python 3"
    },
    "language_info": {
      "name": "python"
    }
  },
  "cells": [
    {
      "cell_type": "markdown",
      "metadata": {
        "id": "43b4dGDBCoHA"
      },
      "source": [
        "# **Simple Linear Regression using Scikit-learn**\n",
        "In this example we are going to predict the percentage of marks a student is going to receive based on the number of hours he/she studies."
      ]
    },
    {
      "cell_type": "code",
      "metadata": {
        "id": "p-UhKABtg1eQ"
      },
      "source": [
        "#importing useful modules\n",
        "import numpy as np\n",
        "import pandas as pd\n",
        "import matplotlib.pyplot as plt\n",
        "from sklearn.model_selection import train_test_split\n",
        "from sklearn.linear_model import LinearRegression\n",
        "from sklearn.metrics import mean_absolute_error"
      ],
      "execution_count": 44,
      "outputs": []
    },
    {
      "cell_type": "code",
      "metadata": {
        "id": "zjEdy2fihEL1"
      },
      "source": [
        "#reading csv data\n",
        "data=pd.read_csv('https://raw.githubusercontent.com/AdiPersonalWorks/Random/master/student_scores%20-%20student_scores.csv')"
      ],
      "execution_count": 3,
      "outputs": []
    },
    {
      "cell_type": "code",
      "metadata": {
        "colab": {
          "base_uri": "https://localhost:8080/"
        },
        "id": "PGFm29vehMSQ",
        "outputId": "83362ca2-037c-4357-aa2c-7142aa7c58c8"
      },
      "source": [
        "#checking data shape\n",
        "data.shape"
      ],
      "execution_count": 4,
      "outputs": [
        {
          "output_type": "execute_result",
          "data": {
            "text/plain": [
              "(25, 2)"
            ]
          },
          "metadata": {
            "tags": []
          },
          "execution_count": 4
        }
      ]
    },
    {
      "cell_type": "code",
      "metadata": {
        "colab": {
          "base_uri": "https://localhost:8080/"
        },
        "id": "_PKamDuChNtp",
        "outputId": "1043ff28-f3cf-4ace-98bc-9b27e696b1a7"
      },
      "source": [
        "data.info()"
      ],
      "execution_count": 5,
      "outputs": [
        {
          "output_type": "stream",
          "text": [
            "<class 'pandas.core.frame.DataFrame'>\n",
            "RangeIndex: 25 entries, 0 to 24\n",
            "Data columns (total 2 columns):\n",
            " #   Column  Non-Null Count  Dtype  \n",
            "---  ------  --------------  -----  \n",
            " 0   Hours   25 non-null     float64\n",
            " 1   Scores  25 non-null     int64  \n",
            "dtypes: float64(1), int64(1)\n",
            "memory usage: 528.0 bytes\n"
          ],
          "name": "stdout"
        }
      ]
    },
    {
      "cell_type": "code",
      "metadata": {
        "colab": {
          "base_uri": "https://localhost:8080/",
          "height": 297
        },
        "id": "zovmVjnYiVPV",
        "outputId": "0e144c51-fde8-49c2-be5d-003d4e42e322"
      },
      "source": [
        "data.describe()"
      ],
      "execution_count": 6,
      "outputs": [
        {
          "output_type": "execute_result",
          "data": {
            "text/html": [
              "<div>\n",
              "<style scoped>\n",
              "    .dataframe tbody tr th:only-of-type {\n",
              "        vertical-align: middle;\n",
              "    }\n",
              "\n",
              "    .dataframe tbody tr th {\n",
              "        vertical-align: top;\n",
              "    }\n",
              "\n",
              "    .dataframe thead th {\n",
              "        text-align: right;\n",
              "    }\n",
              "</style>\n",
              "<table border=\"1\" class=\"dataframe\">\n",
              "  <thead>\n",
              "    <tr style=\"text-align: right;\">\n",
              "      <th></th>\n",
              "      <th>Hours</th>\n",
              "      <th>Scores</th>\n",
              "    </tr>\n",
              "  </thead>\n",
              "  <tbody>\n",
              "    <tr>\n",
              "      <th>count</th>\n",
              "      <td>25.000000</td>\n",
              "      <td>25.000000</td>\n",
              "    </tr>\n",
              "    <tr>\n",
              "      <th>mean</th>\n",
              "      <td>5.012000</td>\n",
              "      <td>51.480000</td>\n",
              "    </tr>\n",
              "    <tr>\n",
              "      <th>std</th>\n",
              "      <td>2.525094</td>\n",
              "      <td>25.286887</td>\n",
              "    </tr>\n",
              "    <tr>\n",
              "      <th>min</th>\n",
              "      <td>1.100000</td>\n",
              "      <td>17.000000</td>\n",
              "    </tr>\n",
              "    <tr>\n",
              "      <th>25%</th>\n",
              "      <td>2.700000</td>\n",
              "      <td>30.000000</td>\n",
              "    </tr>\n",
              "    <tr>\n",
              "      <th>50%</th>\n",
              "      <td>4.800000</td>\n",
              "      <td>47.000000</td>\n",
              "    </tr>\n",
              "    <tr>\n",
              "      <th>75%</th>\n",
              "      <td>7.400000</td>\n",
              "      <td>75.000000</td>\n",
              "    </tr>\n",
              "    <tr>\n",
              "      <th>max</th>\n",
              "      <td>9.200000</td>\n",
              "      <td>95.000000</td>\n",
              "    </tr>\n",
              "  </tbody>\n",
              "</table>\n",
              "</div>"
            ],
            "text/plain": [
              "           Hours     Scores\n",
              "count  25.000000  25.000000\n",
              "mean    5.012000  51.480000\n",
              "std     2.525094  25.286887\n",
              "min     1.100000  17.000000\n",
              "25%     2.700000  30.000000\n",
              "50%     4.800000  47.000000\n",
              "75%     7.400000  75.000000\n",
              "max     9.200000  95.000000"
            ]
          },
          "metadata": {
            "tags": []
          },
          "execution_count": 6
        }
      ]
    },
    {
      "cell_type": "code",
      "metadata": {
        "colab": {
          "base_uri": "https://localhost:8080/",
          "height": 279
        },
        "id": "oTHOtxC3jEku",
        "outputId": "bed72a7e-68b7-45a7-a9d7-7cd50e5810a1"
      },
      "source": [
        "#visualizing data\n",
        "data.plot(x='Hours',y='Scores',kind='scatter')\n",
        "plt.show()"
      ],
      "execution_count": 7,
      "outputs": [
        {
          "output_type": "display_data",
          "data": {
            "image/png": "[encoded data removed]",
            "text/plain": [
              "<Figure size 432x288 with 1 Axes>"
            ]
          },
          "metadata": {
            "tags": [],
            "needs_background": "light"
          }
        }
      ]
    },
    {
      "cell_type": "markdown",
      "metadata": {
        "id": "JteLQPrbDhYo"
      },
      "source": [
        "# **Preparing Data**\n",
        "We will separate X & Y variables to split data into train & test set."
      ]
    },
    {
      "cell_type": "code",
      "metadata": {
        "id": "MIxq7Ra3jfvt"
      },
      "source": [
        "#storing features in separate variables\n",
        "hours=data.iloc[:,0].values.reshape(-1,1)\n",
        "scores=data.iloc[:,-1].values.reshape(-1,1)"
      ],
      "execution_count": 8,
      "outputs": []
    },
    {
      "cell_type": "code",
      "metadata": {
        "id": "sdnzQGqRkO6m"
      },
      "source": [
        "#splitting data into train,test\n",
        "x_train,x_test,y_train,y_test=train_test_split(hours,scores,test_size=0.2,random_state=42)"
      ],
      "execution_count": 9,
      "outputs": []
    },
    {
      "cell_type": "markdown",
      "metadata": {
        "id": "2GjQDmcPDmDt"
      },
      "source": [
        "# **Training Model**\n",
        "We will train data & get the weights of the model. Here incase of linear regression we will e getting coefficient of x and y-intercept."
      ]
    },
    {
      "cell_type": "code",
      "metadata": {
        "colab": {
          "base_uri": "https://localhost:8080/"
        },
        "id": "JsNmVExDkO9f",
        "outputId": "56a8569d-7201-4264-9dce-ac9ba86868be"
      },
      "source": [
        "#initialising and fitting model on train data\n",
        "lr=LinearRegression()\n",
        "lr.fit(x_train,y_train)\n",
        "lr.score(x_train,y_train)"
      ],
      "execution_count": 10,
      "outputs": [
        {
          "output_type": "execute_result",
          "data": {
            "text/plain": [
              "0.9491209376364417"
            ]
          },
          "metadata": {
            "tags": []
          },
          "execution_count": 10
        }
      ]
    },
    {
      "cell_type": "code",
      "metadata": {
        "colab": {
          "base_uri": "https://localhost:8080/"
        },
        "id": "DZPxmxIsho4k",
        "outputId": "71a91a55-dc6a-437c-bcd3-6bf97c34d1db"
      },
      "source": [
        "#retreiving model's weights(coefficient,y-intercept)\n",
        "print(\"Linear model's coefficient: \", lr.coef_)\n",
        "print(\"Linear model's y_intercept: \",lr.intercept_)"
      ],
      "execution_count": null,
      "outputs": [
        {
          "output_type": "stream",
          "text": [
            "Linear model's coefficient:  [[9.68207815]]\n",
            "Linear model's y_intercept:  [2.82689235]\n"
          ],
          "name": "stdout"
        }
      ]
    },
    {
      "cell_type": "markdown",
      "metadata": {
        "id": "IWVGfIN5GB1C"
      },
      "source": [
        "# **Visualizing Model**\n",
        "We will visualize model by plotting it to get the best fit line. "
      ]
    },
    {
      "cell_type": "code",
      "metadata": {
        "colab": {
          "base_uri": "https://localhost:8080/",
          "height": 279
        },
        "id": "fU6JjwEklZli",
        "outputId": "d72af575-dde1-463a-ce2d-510673b31811"
      },
      "source": [
        "#plotting model\n",
        "line=lr.coef_*x_train+lr.intercept_\n",
        "data.plot(x='Hours',y='Scores',kind='scatter')\n",
        "plt.plot(x_train,line)\n",
        "plt.show()"
      ],
      "execution_count": null,
      "outputs": [
        {
          "output_type": "display_data",
          "data": {
            "image/png": "[encoded data removed]",
            "text/plain": [
              "<Figure size 432x288 with 1 Axes>"
            ]
          },
          "metadata": {
            "tags": [],
            "needs_background": "light"
          }
        }
      ]
    },
    {
      "cell_type": "markdown",
      "metadata": {
        "id": "uptQb-jiGPQP"
      },
      "source": [
        "# **Predictions**\n",
        "We will have look at the difference between actual test percentage and predicted test percentage and then get our final prediction on 9.25 hrs."
      ]
    },
    {
      "cell_type": "code",
      "metadata": {
        "colab": {
          "base_uri": "https://localhost:8080/",
          "height": 204
        },
        "id": "Uz4UFB6wGMvC",
        "outputId": "ff99aabc-2346-4e0b-e957-d9efcaadef9d"
      },
      "source": [
        "#prediction on test set\n",
        "y_pred=lr.predict(x_test)\n",
        "df_test=pd.DataFrame({'Actual %':y_test.flatten(),'Predicted %':y_pred.flatten()},index=[0,1,2,3,4])\n",
        "df_test"
      ],
      "execution_count": 51,
      "outputs": [
        {
          "output_type": "execute_result",
          "data": {
            "text/html": [
              "<div>\n",
              "<style scoped>\n",
              "    .dataframe tbody tr th:only-of-type {\n",
              "        vertical-align: middle;\n",
              "    }\n",
              "\n",
              "    .dataframe tbody tr th {\n",
              "        vertical-align: top;\n",
              "    }\n",
              "\n",
              "    .dataframe thead th {\n",
              "        text-align: right;\n",
              "    }\n",
              "</style>\n",
              "<table border=\"1\" class=\"dataframe\">\n",
              "  <thead>\n",
              "    <tr style=\"text-align: right;\">\n",
              "      <th></th>\n",
              "      <th>Actual %</th>\n",
              "      <th>Predicted %</th>\n",
              "    </tr>\n",
              "  </thead>\n",
              "  <tbody>\n",
              "    <tr>\n",
              "      <th>0</th>\n",
              "      <td>81</td>\n",
              "      <td>83.188141</td>\n",
              "    </tr>\n",
              "    <tr>\n",
              "      <th>1</th>\n",
              "      <td>30</td>\n",
              "      <td>27.032088</td>\n",
              "    </tr>\n",
              "    <tr>\n",
              "      <th>2</th>\n",
              "      <td>21</td>\n",
              "      <td>27.032088</td>\n",
              "    </tr>\n",
              "    <tr>\n",
              "      <th>3</th>\n",
              "      <td>76</td>\n",
              "      <td>69.633232</td>\n",
              "    </tr>\n",
              "    <tr>\n",
              "      <th>4</th>\n",
              "      <td>62</td>\n",
              "      <td>59.951153</td>\n",
              "    </tr>\n",
              "  </tbody>\n",
              "</table>\n",
              "</div>"
            ],
            "text/plain": [
              "   Actual %  Predicted %\n",
              "0        81    83.188141\n",
              "1        30    27.032088\n",
              "2        21    27.032088\n",
              "3        76    69.633232\n",
              "4        62    59.951153"
            ]
          },
          "metadata": {
            "tags": []
          },
          "execution_count": 51
        }
      ]
    },
    {
      "cell_type": "code",
      "metadata": {
        "colab": {
          "base_uri": "https://localhost:8080/"
        },
        "id": "QWHHBeLZle43",
        "outputId": "9e0e44a8-23e4-49e7-85b0-a3fe9ab31f18"
      },
      "source": [
        "#prediction using 9.25 hours.\n",
        "pred=lr.predict(np.array([9.25]).reshape(-1,1))[0][0]\n",
        "print('If student studies 9.25 hrs/day, he/she is going to secure ',pred,'%.')"
      ],
      "execution_count": 43,
      "outputs": [
        {
          "output_type": "stream",
          "text": [
            "If student studies 9.25 hrs/day, he/she is going to secure  92.38611528261494 %.\n"
          ],
          "name": "stdout"
        }
      ]
    },
    {
      "cell_type": "markdown",
      "metadata": {
        "id": "4Oxkcc-8HvUp"
      },
      "source": [
        "# **Model Evaluation**\n",
        "Final step is to evaluate the model. Here in case of Linear Model, metric used to evaluate model will be Mean Absolute Error. The lower it is, the more better the model. "
      ]
    },
    {
      "cell_type": "code",
      "metadata": {
        "colab": {
          "base_uri": "https://localhost:8080/"
        },
        "id": "bAZE9mPdG_7j",
        "outputId": "297a017f-2669-4956-ed1f-91671ddc35a3"
      },
      "source": [
        "mae=mean_absolute_error(y_test,y_pred)\n",
        "print('The mean absolute error is: ',mae)"
      ],
      "execution_count": 53,
      "outputs": [
        {
          "output_type": "stream",
          "text": [
            "The mean absolute error is:  3.9207511902099244\n"
          ],
          "name": "stdout"
        }
      ]
    },
    {
      "cell_type": "code",
      "metadata": {
        "id": "KwamTc8JHR0_"
      },
      "source": [
        ""
      ],
      "execution_count": null,
      "outputs": []
    }
  ]
}